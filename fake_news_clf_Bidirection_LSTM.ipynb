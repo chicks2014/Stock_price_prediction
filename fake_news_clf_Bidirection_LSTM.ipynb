{
 "cells": [
  {
   "cell_type": "markdown",
   "metadata": {},
   "source": [
    "### Stock Market Prediction And Forecasting Using Stacked LSTM"
   ]
  },
  {
   "cell_type": "code",
   "execution_count": null,
   "metadata": {},
   "outputs": [],
   "source": [
    "### Keras and Tensorflow >2.0"
   ]
  },
  {
   "cell_type": "code",
   "execution_count": 1,
   "metadata": {},
   "outputs": [],
   "source": [
    "### Data Collection\n",
    "import pandas_datareader as pdr\n",
    "# key=\"\""
   ]
  },
  {
   "cell_type": "code",
   "execution_count": 2,
   "metadata": {},
   "outputs": [],
   "source": [
    "# df = pdr.get_data_tiingo('AAPL', api_key=key)"
   ]
  },
  {
   "cell_type": "code",
   "execution_count": 3,
   "metadata": {},
   "outputs": [],
   "source": [
    "# df.to_csv('AAPL.csv')"
   ]
  },
  {
   "cell_type": "code",
   "execution_count": 4,
   "metadata": {},
   "outputs": [],
   "source": [
    "import pandas as pd"
   ]
  },
  {
   "cell_type": "code",
   "execution_count": 5,
   "metadata": {},
   "outputs": [],
   "source": [
    "df=pd.read_csv('AAPL.csv')"
   ]
  },
  {
   "cell_type": "code",
   "execution_count": 6,
   "metadata": {},
   "outputs": [
    {
     "data": {
      "text/html": [
       "<div>\n",
       "<style scoped>\n",
       "    .dataframe tbody tr th:only-of-type {\n",
       "        vertical-align: middle;\n",
       "    }\n",
       "\n",
       "    .dataframe tbody tr th {\n",
       "        vertical-align: top;\n",
       "    }\n",
       "\n",
       "    .dataframe thead th {\n",
       "        text-align: right;\n",
       "    }\n",
       "</style>\n",
       "<table border=\"1\" class=\"dataframe\">\n",
       "  <thead>\n",
       "    <tr style=\"text-align: right;\">\n",
       "      <th></th>\n",
       "      <th>symbol</th>\n",
       "      <th>date</th>\n",
       "      <th>close</th>\n",
       "      <th>high</th>\n",
       "      <th>low</th>\n",
       "      <th>open</th>\n",
       "      <th>volume</th>\n",
       "      <th>adjClose</th>\n",
       "      <th>adjHigh</th>\n",
       "      <th>adjLow</th>\n",
       "      <th>adjOpen</th>\n",
       "      <th>adjVolume</th>\n",
       "      <th>divCash</th>\n",
       "      <th>splitFactor</th>\n",
       "    </tr>\n",
       "  </thead>\n",
       "  <tbody>\n",
       "    <tr>\n",
       "      <th>0</th>\n",
       "      <td>AAPL</td>\n",
       "      <td>2017-10-13 00:00:00+00:00</td>\n",
       "      <td>156.99</td>\n",
       "      <td>157.28</td>\n",
       "      <td>156.41</td>\n",
       "      <td>156.73</td>\n",
       "      <td>16287608</td>\n",
       "      <td>37.246402</td>\n",
       "      <td>37.315206</td>\n",
       "      <td>37.108795</td>\n",
       "      <td>37.184716</td>\n",
       "      <td>65150432</td>\n",
       "      <td>0.0</td>\n",
       "      <td>1.0</td>\n",
       "    </tr>\n",
       "    <tr>\n",
       "      <th>1</th>\n",
       "      <td>AAPL</td>\n",
       "      <td>2017-10-16 00:00:00+00:00</td>\n",
       "      <td>159.88</td>\n",
       "      <td>160.00</td>\n",
       "      <td>157.65</td>\n",
       "      <td>157.90</td>\n",
       "      <td>23894630</td>\n",
       "      <td>37.932064</td>\n",
       "      <td>37.960535</td>\n",
       "      <td>37.402990</td>\n",
       "      <td>37.462303</td>\n",
       "      <td>95578520</td>\n",
       "      <td>0.0</td>\n",
       "      <td>1.0</td>\n",
       "    </tr>\n",
       "    <tr>\n",
       "      <th>2</th>\n",
       "      <td>AAPL</td>\n",
       "      <td>2017-10-17 00:00:00+00:00</td>\n",
       "      <td>160.47</td>\n",
       "      <td>160.87</td>\n",
       "      <td>159.23</td>\n",
       "      <td>159.78</td>\n",
       "      <td>18816438</td>\n",
       "      <td>38.072044</td>\n",
       "      <td>38.166945</td>\n",
       "      <td>37.777850</td>\n",
       "      <td>37.908339</td>\n",
       "      <td>75265752</td>\n",
       "      <td>0.0</td>\n",
       "      <td>1.0</td>\n",
       "    </tr>\n",
       "    <tr>\n",
       "      <th>3</th>\n",
       "      <td>AAPL</td>\n",
       "      <td>2017-10-18 00:00:00+00:00</td>\n",
       "      <td>159.76</td>\n",
       "      <td>160.71</td>\n",
       "      <td>159.60</td>\n",
       "      <td>160.42</td>\n",
       "      <td>16158659</td>\n",
       "      <td>37.903594</td>\n",
       "      <td>38.128985</td>\n",
       "      <td>37.865634</td>\n",
       "      <td>38.060181</td>\n",
       "      <td>64634636</td>\n",
       "      <td>0.0</td>\n",
       "      <td>1.0</td>\n",
       "    </tr>\n",
       "    <tr>\n",
       "      <th>4</th>\n",
       "      <td>AAPL</td>\n",
       "      <td>2017-10-19 00:00:00+00:00</td>\n",
       "      <td>155.98</td>\n",
       "      <td>157.08</td>\n",
       "      <td>155.02</td>\n",
       "      <td>156.75</td>\n",
       "      <td>42111326</td>\n",
       "      <td>37.006776</td>\n",
       "      <td>37.267755</td>\n",
       "      <td>36.779013</td>\n",
       "      <td>37.189462</td>\n",
       "      <td>168445304</td>\n",
       "      <td>0.0</td>\n",
       "      <td>1.0</td>\n",
       "    </tr>\n",
       "  </tbody>\n",
       "</table>\n",
       "</div>"
      ],
      "text/plain": [
       "  symbol                       date   close    high     low    open    volume  \\\n",
       "0   AAPL  2017-10-13 00:00:00+00:00  156.99  157.28  156.41  156.73  16287608   \n",
       "1   AAPL  2017-10-16 00:00:00+00:00  159.88  160.00  157.65  157.90  23894630   \n",
       "2   AAPL  2017-10-17 00:00:00+00:00  160.47  160.87  159.23  159.78  18816438   \n",
       "3   AAPL  2017-10-18 00:00:00+00:00  159.76  160.71  159.60  160.42  16158659   \n",
       "4   AAPL  2017-10-19 00:00:00+00:00  155.98  157.08  155.02  156.75  42111326   \n",
       "\n",
       "    adjClose    adjHigh     adjLow    adjOpen  adjVolume  divCash  splitFactor  \n",
       "0  37.246402  37.315206  37.108795  37.184716   65150432      0.0          1.0  \n",
       "1  37.932064  37.960535  37.402990  37.462303   95578520      0.0          1.0  \n",
       "2  38.072044  38.166945  37.777850  37.908339   75265752      0.0          1.0  \n",
       "3  37.903594  38.128985  37.865634  38.060181   64634636      0.0          1.0  \n",
       "4  37.006776  37.267755  36.779013  37.189462  168445304      0.0          1.0  "
      ]
     },
     "execution_count": 6,
     "metadata": {},
     "output_type": "execute_result"
    }
   ],
   "source": [
    "df.head()"
   ]
  },
  {
   "cell_type": "code",
   "execution_count": 7,
   "metadata": {},
   "outputs": [
    {
     "data": {
      "text/html": [
       "<div>\n",
       "<style scoped>\n",
       "    .dataframe tbody tr th:only-of-type {\n",
       "        vertical-align: middle;\n",
       "    }\n",
       "\n",
       "    .dataframe tbody tr th {\n",
       "        vertical-align: top;\n",
       "    }\n",
       "\n",
       "    .dataframe thead th {\n",
       "        text-align: right;\n",
       "    }\n",
       "</style>\n",
       "<table border=\"1\" class=\"dataframe\">\n",
       "  <thead>\n",
       "    <tr style=\"text-align: right;\">\n",
       "      <th></th>\n",
       "      <th>symbol</th>\n",
       "      <th>date</th>\n",
       "      <th>close</th>\n",
       "      <th>high</th>\n",
       "      <th>low</th>\n",
       "      <th>open</th>\n",
       "      <th>volume</th>\n",
       "      <th>adjClose</th>\n",
       "      <th>adjHigh</th>\n",
       "      <th>adjLow</th>\n",
       "      <th>adjOpen</th>\n",
       "      <th>adjVolume</th>\n",
       "      <th>divCash</th>\n",
       "      <th>splitFactor</th>\n",
       "    </tr>\n",
       "  </thead>\n",
       "  <tbody>\n",
       "    <tr>\n",
       "      <th>1252</th>\n",
       "      <td>AAPL</td>\n",
       "      <td>2022-10-05 00:00:00+00:00</td>\n",
       "      <td>146.40</td>\n",
       "      <td>147.38</td>\n",
       "      <td>143.0100</td>\n",
       "      <td>144.075</td>\n",
       "      <td>79470968</td>\n",
       "      <td>146.40</td>\n",
       "      <td>147.38</td>\n",
       "      <td>143.0100</td>\n",
       "      <td>144.075</td>\n",
       "      <td>79470968</td>\n",
       "      <td>0.0</td>\n",
       "      <td>1.0</td>\n",
       "    </tr>\n",
       "    <tr>\n",
       "      <th>1253</th>\n",
       "      <td>AAPL</td>\n",
       "      <td>2022-10-06 00:00:00+00:00</td>\n",
       "      <td>145.43</td>\n",
       "      <td>147.54</td>\n",
       "      <td>145.2200</td>\n",
       "      <td>145.810</td>\n",
       "      <td>68402169</td>\n",
       "      <td>145.43</td>\n",
       "      <td>147.54</td>\n",
       "      <td>145.2200</td>\n",
       "      <td>145.810</td>\n",
       "      <td>68402169</td>\n",
       "      <td>0.0</td>\n",
       "      <td>1.0</td>\n",
       "    </tr>\n",
       "    <tr>\n",
       "      <th>1254</th>\n",
       "      <td>AAPL</td>\n",
       "      <td>2022-10-07 00:00:00+00:00</td>\n",
       "      <td>140.09</td>\n",
       "      <td>143.10</td>\n",
       "      <td>139.4450</td>\n",
       "      <td>142.540</td>\n",
       "      <td>85925559</td>\n",
       "      <td>140.09</td>\n",
       "      <td>143.10</td>\n",
       "      <td>139.4450</td>\n",
       "      <td>142.540</td>\n",
       "      <td>85925559</td>\n",
       "      <td>0.0</td>\n",
       "      <td>1.0</td>\n",
       "    </tr>\n",
       "    <tr>\n",
       "      <th>1255</th>\n",
       "      <td>AAPL</td>\n",
       "      <td>2022-10-10 00:00:00+00:00</td>\n",
       "      <td>140.42</td>\n",
       "      <td>141.89</td>\n",
       "      <td>138.5729</td>\n",
       "      <td>140.420</td>\n",
       "      <td>74899002</td>\n",
       "      <td>140.42</td>\n",
       "      <td>141.89</td>\n",
       "      <td>138.5729</td>\n",
       "      <td>140.420</td>\n",
       "      <td>74899002</td>\n",
       "      <td>0.0</td>\n",
       "      <td>1.0</td>\n",
       "    </tr>\n",
       "    <tr>\n",
       "      <th>1256</th>\n",
       "      <td>AAPL</td>\n",
       "      <td>2022-10-11 00:00:00+00:00</td>\n",
       "      <td>138.98</td>\n",
       "      <td>141.35</td>\n",
       "      <td>138.2200</td>\n",
       "      <td>139.900</td>\n",
       "      <td>77033672</td>\n",
       "      <td>138.98</td>\n",
       "      <td>141.35</td>\n",
       "      <td>138.2200</td>\n",
       "      <td>139.900</td>\n",
       "      <td>77033672</td>\n",
       "      <td>0.0</td>\n",
       "      <td>1.0</td>\n",
       "    </tr>\n",
       "  </tbody>\n",
       "</table>\n",
       "</div>"
      ],
      "text/plain": [
       "     symbol                       date   close    high       low     open  \\\n",
       "1252   AAPL  2022-10-05 00:00:00+00:00  146.40  147.38  143.0100  144.075   \n",
       "1253   AAPL  2022-10-06 00:00:00+00:00  145.43  147.54  145.2200  145.810   \n",
       "1254   AAPL  2022-10-07 00:00:00+00:00  140.09  143.10  139.4450  142.540   \n",
       "1255   AAPL  2022-10-10 00:00:00+00:00  140.42  141.89  138.5729  140.420   \n",
       "1256   AAPL  2022-10-11 00:00:00+00:00  138.98  141.35  138.2200  139.900   \n",
       "\n",
       "        volume  adjClose  adjHigh    adjLow  adjOpen  adjVolume  divCash  \\\n",
       "1252  79470968    146.40   147.38  143.0100  144.075   79470968      0.0   \n",
       "1253  68402169    145.43   147.54  145.2200  145.810   68402169      0.0   \n",
       "1254  85925559    140.09   143.10  139.4450  142.540   85925559      0.0   \n",
       "1255  74899002    140.42   141.89  138.5729  140.420   74899002      0.0   \n",
       "1256  77033672    138.98   141.35  138.2200  139.900   77033672      0.0   \n",
       "\n",
       "      splitFactor  \n",
       "1252          1.0  \n",
       "1253          1.0  \n",
       "1254          1.0  \n",
       "1255          1.0  \n",
       "1256          1.0  "
      ]
     },
     "execution_count": 7,
     "metadata": {},
     "output_type": "execute_result"
    }
   ],
   "source": [
    "df.tail()"
   ]
  },
  {
   "cell_type": "code",
   "execution_count": 8,
   "metadata": {},
   "outputs": [],
   "source": [
    "df1=df.reset_index()['close']"
   ]
  },
  {
   "cell_type": "code",
   "execution_count": 9,
   "metadata": {},
   "outputs": [
    {
     "data": {
      "text/plain": [
       "0       156.99\n",
       "1       159.88\n",
       "2       160.47\n",
       "3       159.76\n",
       "4       155.98\n",
       "         ...  \n",
       "1252    146.40\n",
       "1253    145.43\n",
       "1254    140.09\n",
       "1255    140.42\n",
       "1256    138.98\n",
       "Name: close, Length: 1257, dtype: float64"
      ]
     },
     "execution_count": 9,
     "metadata": {},
     "output_type": "execute_result"
    }
   ],
   "source": [
    "df1"
   ]
  },
  {
   "cell_type": "code",
   "execution_count": 10,
   "metadata": {},
   "outputs": [
    {
     "data": {
      "text/plain": [
       "[<matplotlib.lines.Line2D at 0x1921fd489d0>]"
      ]
     },
     "execution_count": 10,
     "metadata": {},
     "output_type": "execute_result"
    },
    {
     "data": {
      "image/png": "[encoded data removed]",
      "text/plain": [
       "<Figure size 432x288 with 1 Axes>"
      ]
     },
     "metadata": {
      "needs_background": "light"
     },
     "output_type": "display_data"
    }
   ],
   "source": [
    "import matplotlib.pyplot as plt\n",
    "plt.plot(df1)"
   ]
  },
  {
   "cell_type": "code",
   "execution_count": 11,
   "metadata": {},
   "outputs": [],
   "source": [
    "### LSTM are sensitive to the scale of the data. so we apply MinMax scaler "
   ]
  },
  {
   "cell_type": "code",
   "execution_count": 12,
   "metadata": {},
   "outputs": [],
   "source": [
    "import numpy as np"
   ]
  },
  {
   "cell_type": "code",
   "execution_count": 13,
   "metadata": {},
   "outputs": [
    {
     "data": {
      "text/plain": [
       "0       156.99\n",
       "1       159.88\n",
       "2       160.47\n",
       "3       159.76\n",
       "4       155.98\n",
       "         ...  \n",
       "1252    146.40\n",
       "1253    145.43\n",
       "1254    140.09\n",
       "1255    140.42\n",
       "1256    138.98\n",
       "Name: close, Length: 1257, dtype: float64"
      ]
     },
     "execution_count": 13,
     "metadata": {},
     "output_type": "execute_result"
    }
   ],
   "source": [
    "df1"
   ]
  },
  {
   "cell_type": "code",
   "execution_count": 14,
   "metadata": {},
   "outputs": [],
   "source": [
    "from sklearn.preprocessing import MinMaxScaler\n",
    "scaler=MinMaxScaler(feature_range=(0,1))\n",
    "df1=scaler.fit_transform(np.array(df1).reshape(-1,1))"
   ]
  },
  {
   "cell_type": "code",
   "execution_count": 15,
   "metadata": {},
   "outputs": [
    {
     "name": "stdout",
     "output_type": "stream",
     "text": [
      "[[0.12561052]\n",
      " [0.13284909]\n",
      " [0.13432686]\n",
      " ...\n",
      " [0.08328115]\n",
      " [0.0841077 ]\n",
      " [0.08050094]]\n"
     ]
    }
   ],
   "source": [
    "print(df1)"
   ]
  },
  {
   "cell_type": "code",
   "execution_count": 16,
   "metadata": {},
   "outputs": [],
   "source": [
    "##splitting dataset into train and test split\n",
    "training_size=int(len(df1)*0.65)\n",
    "test_size=len(df1)-training_size\n",
    "train_data,test_data=df1[0:training_size,:],df1[training_size:len(df1),:1]"
   ]
  },
  {
   "cell_type": "code",
   "execution_count": 17,
   "metadata": {},
   "outputs": [
    {
     "data": {
      "text/plain": [
       "(817, 440)"
      ]
     },
     "execution_count": 17,
     "metadata": {},
     "output_type": "execute_result"
    }
   ],
   "source": [
    "training_size,test_size"
   ]
  },
  {
   "cell_type": "code",
   "execution_count": 19,
   "metadata": {},
   "outputs": [],
   "source": [
    "# train_data"
   ]
  },
  {
   "cell_type": "code",
   "execution_count": 20,
   "metadata": {},
   "outputs": [],
   "source": [
    "import numpy\n",
    "# convert an array of values into a dataset matrix\n",
    "def create_dataset(dataset, time_step=1):\n",
    "\tdataX, dataY = [], []\n",
    "\tfor i in range(len(dataset)-time_step-1):\n",
    "\t\ta = dataset[i:(i+time_step), 0]   ###i=0, 0,1,2,3-----99   100 \n",
    "\t\tdataX.append(a)\n",
    "\t\tdataY.append(dataset[i + time_step, 0])\n",
    "\treturn numpy.array(dataX), numpy.array(dataY)"
   ]
  },
  {
   "cell_type": "code",
   "execution_count": 21,
   "metadata": {},
   "outputs": [],
   "source": [
    "# reshape into X=t,t+1,t+2,t+3 and Y=t+4\n",
    "time_step = 100\n",
    "X_train, y_train = create_dataset(train_data, time_step)\n",
    "X_test, ytest = create_dataset(test_data, time_step)"
   ]
  },
  {
   "cell_type": "code",
   "execution_count": 22,
   "metadata": {},
   "outputs": [
    {
     "name": "stdout",
     "output_type": "stream",
     "text": [
      "(716, 100)\n",
      "(716,)\n"
     ]
    },
    {
     "data": {
      "text/plain": [
       "(None, None)"
      ]
     },
     "execution_count": 22,
     "metadata": {},
     "output_type": "execute_result"
    }
   ],
   "source": [
    "print(X_train.shape), print(y_train.shape)"
   ]
  },
  {
   "cell_type": "code",
   "execution_count": 23,
   "metadata": {},
   "outputs": [
    {
     "name": "stdout",
     "output_type": "stream",
     "text": [
      "(339, 100)\n",
      "(339,)\n"
     ]
    },
    {
     "data": {
      "text/plain": [
       "(None, None)"
      ]
     },
     "execution_count": 23,
     "metadata": {},
     "output_type": "execute_result"
    }
   ],
   "source": [
    "print(X_test.shape), print(ytest.shape)"
   ]
  },
  {
   "cell_type": "code",
   "execution_count": 25,
   "metadata": {},
   "outputs": [],
   "source": [
    "# reshape input to be [samples, time steps, features] which is required for LSTM\n",
    "X_train =X_train.reshape(X_train.shape[0],X_train.shape[1] , 1)\n",
    "X_test = X_test.reshape(X_test.shape[0],X_test.shape[1] , 1)"
   ]
  },
  {
   "cell_type": "code",
   "execution_count": 26,
   "metadata": {},
   "outputs": [],
   "source": [
    "### Create the Stacked LSTM model\n",
    "from tensorflow.keras.models import Sequential\n",
    "from tensorflow.keras.layers import Dense, Bidirectional\n",
    "from tensorflow.keras.layers import LSTM"
   ]
  },
  {
   "cell_type": "code",
   "execution_count": 31,
   "metadata": {},
   "outputs": [],
   "source": [
    "model=Sequential()\n",
    "model.add(Bidirectional(LSTM(50,return_sequences=True,input_shape=(100,1))))\n",
    "model.add(Bidirectional(LSTM(50,return_sequences=True)))\n",
    "model.add(Bidirectional(LSTM(50, return_sequences=True)))\n",
    "model.add(Dense(1))\n",
    "\n",
    "model.compile(loss='mean_squared_error',optimizer='adam')\n"
   ]
  },
  {
   "cell_type": "code",
   "execution_count": 35,
   "metadata": {},
   "outputs": [
    {
     "name": "stdout",
     "output_type": "stream",
     "text": [
      "Model: \"sequential_2\"\n",
      "_________________________________________________________________\n",
      "Layer (type)                 Output Shape              Param #   \n",
      "=================================================================\n",
      "bidirectional_6 (Bidirection (None, 100, 100)          20800     \n",
      "_________________________________________________________________\n",
      "bidirectional_7 (Bidirection (None, 100, 100)          60400     \n",
      "_________________________________________________________________\n",
      "bidirectional_8 (Bidirection (None, 100, 100)          60400     \n",
      "_________________________________________________________________\n",
      "dense_2 (Dense)              (None, 100, 1)            101       \n",
      "=================================================================\n",
      "Total params: 141,701\n",
      "Trainable params: 141,701\n",
      "Non-trainable params: 0\n",
      "_________________________________________________________________\n"
     ]
    }
   ],
   "source": [
    "model.summary()"
   ]
  },
  {
   "cell_type": "code",
   "execution_count": 33,
   "metadata": {},
   "outputs": [
    {
     "data": {
      "text/plain": [
       "11.1875"
      ]
     },
     "execution_count": 33,
     "metadata": {},
     "output_type": "execute_result"
    }
   ],
   "source": [
    "716/64"
   ]
  },
  {
   "cell_type": "code",
   "execution_count": 42,
   "metadata": {
    "scrolled": true
   },
   "outputs": [
    {
     "name": "stdout",
     "output_type": "stream",
     "text": [
      "Epoch 1/100\n",
      "12/12 [==============================] - 3s 250ms/step - loss: 0.0021 - val_loss: 0.0078\n",
      "Epoch 2/100\n",
      "12/12 [==============================] - 3s 234ms/step - loss: 0.0019 - val_loss: 0.0047\n",
      "Epoch 3/100\n",
      "12/12 [==============================] - 3s 231ms/step - loss: 0.0017 - val_loss: 0.0054\n",
      "Epoch 4/100\n",
      "12/12 [==============================] - 3s 243ms/step - loss: 0.0015 - val_loss: 0.0026\n",
      "Epoch 5/100\n",
      "12/12 [==============================] - 3s 235ms/step - loss: 0.0176 - val_loss: 0.0161\n",
      "Epoch 6/100\n",
      "12/12 [==============================] - 3s 240ms/step - loss: 0.0079 - val_loss: 0.0020\n",
      "Epoch 7/100\n",
      "12/12 [==============================] - 3s 234ms/step - loss: 0.0065 - val_loss: 0.0080\n",
      "Epoch 8/100\n",
      "12/12 [==============================] - 3s 239ms/step - loss: 0.0078 - val_loss: 0.0033\n",
      "Epoch 9/100\n",
      "12/12 [==============================] - 3s 233ms/step - loss: 0.0064 - val_loss: 0.0014\n",
      "Epoch 10/100\n",
      "12/12 [==============================] - 3s 244ms/step - loss: 0.0052 - val_loss: 0.0035\n",
      "Epoch 11/100\n",
      "12/12 [==============================] - 3s 229ms/step - loss: 0.0039 - val_loss: 0.0035\n",
      "Epoch 12/100\n",
      "12/12 [==============================] - 3s 232ms/step - loss: 0.0049 - val_loss: 0.0025\n",
      "Epoch 13/100\n",
      "12/12 [==============================] - 3s 229ms/step - loss: 0.0043 - val_loss: 0.0040\n",
      "Epoch 14/100\n",
      "12/12 [==============================] - 3s 223ms/step - loss: 0.0074 - val_loss: 0.0109\n",
      "Epoch 15/100\n",
      "12/12 [==============================] - 3s 228ms/step - loss: 0.0073 - val_loss: 0.0062\n",
      "Epoch 16/100\n",
      "12/12 [==============================] - 3s 226ms/step - loss: 0.0054 - val_loss: 0.0055\n",
      "Epoch 17/100\n",
      "12/12 [==============================] - 3s 241ms/step - loss: 0.0055 - val_loss: 0.0065\n",
      "Epoch 18/100\n",
      "12/12 [==============================] - 3s 254ms/step - loss: 0.0054 - val_loss: 0.0082\n",
      "Epoch 19/100\n",
      "12/12 [==============================] - 3s 243ms/step - loss: 0.0041 - val_loss: 0.0038\n",
      "Epoch 20/100\n",
      "12/12 [==============================] - 3s 246ms/step - loss: 0.0033 - val_loss: 0.0042\n",
      "Epoch 21/100\n",
      "12/12 [==============================] - 3s 243ms/step - loss: 0.0030 - val_loss: 0.0029\n",
      "Epoch 22/100\n",
      "12/12 [==============================] - 3s 223ms/step - loss: 0.0025 - val_loss: 0.0057\n",
      "Epoch 23/100\n",
      "12/12 [==============================] - 3s 229ms/step - loss: 0.0035 - val_loss: 0.0045\n",
      "Epoch 24/100\n",
      "12/12 [==============================] - 3s 245ms/step - loss: 0.0028 - val_loss: 0.0044\n",
      "Epoch 25/100\n",
      "12/12 [==============================] - 3s 241ms/step - loss: 0.0023 - val_loss: 0.0045\n",
      "Epoch 26/100\n",
      "12/12 [==============================] - 3s 242ms/step - loss: 0.0025 - val_loss: 0.0080\n",
      "Epoch 27/100\n",
      "12/12 [==============================] - 3s 258ms/step - loss: 0.0020 - val_loss: 0.0047\n",
      "Epoch 28/100\n",
      "12/12 [==============================] - 3s 253ms/step - loss: 0.0019 - val_loss: 0.0039\n",
      "Epoch 29/100\n",
      "12/12 [==============================] - 3s 240ms/step - loss: 0.0023 - val_loss: 0.0044\n",
      "Epoch 30/100\n",
      "12/12 [==============================] - 3s 250ms/step - loss: 0.0047 - val_loss: 0.0105\n",
      "Epoch 31/100\n",
      "12/12 [==============================] - 3s 240ms/step - loss: 0.0051 - val_loss: 0.0121\n",
      "Epoch 32/100\n",
      "12/12 [==============================] - 3s 240ms/step - loss: 0.0029 - val_loss: 0.0061\n",
      "Epoch 33/100\n",
      "12/12 [==============================] - 3s 248ms/step - loss: 0.0027 - val_loss: 0.0034\n",
      "Epoch 34/100\n",
      "12/12 [==============================] - 3s 235ms/step - loss: 0.0033 - val_loss: 0.0020\n",
      "Epoch 35/100\n",
      "12/12 [==============================] - 3s 247ms/step - loss: 0.0028 - val_loss: 0.0049\n",
      "Epoch 36/100\n",
      "12/12 [==============================] - 3s 248ms/step - loss: 0.0026 - val_loss: 0.0043\n",
      "Epoch 37/100\n",
      "12/12 [==============================] - 3s 240ms/step - loss: 0.0024 - val_loss: 0.0030\n",
      "Epoch 38/100\n",
      "12/12 [==============================] - 3s 259ms/step - loss: 0.0021 - val_loss: 0.0054\n",
      "Epoch 39/100\n",
      "12/12 [==============================] - 3s 236ms/step - loss: 0.0017 - val_loss: 0.0036\n",
      "Epoch 40/100\n",
      "12/12 [==============================] - 3s 234ms/step - loss: 0.0025 - val_loss: 0.0071\n",
      "Epoch 41/100\n",
      "12/12 [==============================] - 3s 236ms/step - loss: 0.0020 - val_loss: 0.0060\n",
      "Epoch 42/100\n",
      "12/12 [==============================] - 3s 232ms/step - loss: 0.0023 - val_loss: 0.0030\n",
      "Epoch 43/100\n",
      "12/12 [==============================] - 3s 233ms/step - loss: 0.0023 - val_loss: 0.0089\n",
      "Epoch 44/100\n",
      "12/12 [==============================] - 3s 237ms/step - loss: 0.0019 - val_loss: 0.0059\n",
      "Epoch 45/100\n",
      "12/12 [==============================] - 3s 231ms/step - loss: 0.0019 - val_loss: 0.0018\n",
      "Epoch 46/100\n",
      "12/12 [==============================] - 3s 236ms/step - loss: 0.0022 - val_loss: 0.0022\n",
      "Epoch 47/100\n",
      "12/12 [==============================] - 3s 234ms/step - loss: 0.0022 - val_loss: 0.0016\n",
      "Epoch 48/100\n",
      "12/12 [==============================] - 3s 234ms/step - loss: 0.0020 - val_loss: 0.0018\n",
      "Epoch 49/100\n",
      "12/12 [==============================] - 3s 233ms/step - loss: 0.0025 - val_loss: 0.0054\n",
      "Epoch 50/100\n",
      "12/12 [==============================] - 3s 231ms/step - loss: 0.0021 - val_loss: 0.0071\n",
      "Epoch 51/100\n",
      "12/12 [==============================] - 3s 242ms/step - loss: 0.0025 - val_loss: 0.0057\n",
      "Epoch 52/100\n",
      "12/12 [==============================] - 3s 228ms/step - loss: 0.0019 - val_loss: 0.0041\n",
      "Epoch 53/100\n",
      "12/12 [==============================] - 3s 245ms/step - loss: 0.0015 - val_loss: 0.0039\n",
      "Epoch 54/100\n",
      "12/12 [==============================] - 3s 230ms/step - loss: 0.0014 - val_loss: 0.0040\n",
      "Epoch 55/100\n",
      "12/12 [==============================] - 3s 233ms/step - loss: 0.0015 - val_loss: 0.0041\n",
      "Epoch 56/100\n",
      "12/12 [==============================] - 3s 242ms/step - loss: 0.0018 - val_loss: 0.0032\n",
      "Epoch 57/100\n",
      "12/12 [==============================] - 3s 227ms/step - loss: 0.0055 - val_loss: 0.0059\n",
      "Epoch 58/100\n",
      "12/12 [==============================] - 3s 238ms/step - loss: 0.0054 - val_loss: 0.0066\n",
      "Epoch 59/100\n",
      "12/12 [==============================] - 3s 224ms/step - loss: 0.0043 - val_loss: 0.0080\n",
      "Epoch 60/100\n",
      "12/12 [==============================] - 3s 232ms/step - loss: 0.0031 - val_loss: 0.0063\n",
      "Epoch 61/100\n",
      "12/12 [==============================] - 3s 234ms/step - loss: 0.0029 - val_loss: 0.0042\n",
      "Epoch 62/100\n",
      "12/12 [==============================] - 3s 230ms/step - loss: 0.0026 - val_loss: 0.0043\n",
      "Epoch 63/100\n",
      "12/12 [==============================] - 3s 237ms/step - loss: 0.0025 - val_loss: 0.0042\n",
      "Epoch 64/100\n",
      "12/12 [==============================] - 3s 232ms/step - loss: 0.0025 - val_loss: 0.0060\n",
      "Epoch 65/100\n",
      "12/12 [==============================] - 3s 231ms/step - loss: 0.0029 - val_loss: 0.0032\n",
      "Epoch 66/100\n",
      "12/12 [==============================] - 3s 228ms/step - loss: 0.0032 - val_loss: 0.0083\n",
      "Epoch 67/100\n",
      "12/12 [==============================] - 3s 242ms/step - loss: 0.0025 - val_loss: 0.0054\n",
      "Epoch 68/100\n",
      "12/12 [==============================] - 3s 251ms/step - loss: 0.0021 - val_loss: 0.0037\n",
      "Epoch 69/100\n",
      "12/12 [==============================] - 3s 244ms/step - loss: 0.0019 - val_loss: 0.0031\n",
      "Epoch 70/100\n",
      "12/12 [==============================] - 3s 250ms/step - loss: 0.0021 - val_loss: 0.0052\n",
      "Epoch 71/100\n",
      "12/12 [==============================] - 3s 248ms/step - loss: 0.0021 - val_loss: 0.0055\n",
      "Epoch 72/100\n",
      "12/12 [==============================] - 3s 230ms/step - loss: 0.0019 - val_loss: 0.0033\n",
      "Epoch 73/100\n",
      "12/12 [==============================] - 3s 235ms/step - loss: 0.0021 - val_loss: 0.0041\n",
      "Epoch 74/100\n",
      "12/12 [==============================] - 3s 231ms/step - loss: 0.0023 - val_loss: 0.0055\n",
      "Epoch 75/100\n",
      "12/12 [==============================] - 3s 238ms/step - loss: 0.0028 - val_loss: 0.0023\n",
      "Epoch 76/100\n",
      "12/12 [==============================] - 3s 231ms/step - loss: 0.0028 - val_loss: 0.0019\n",
      "Epoch 77/100\n",
      "12/12 [==============================] - 3s 238ms/step - loss: 0.0021 - val_loss: 0.0021\n",
      "Epoch 78/100\n",
      "12/12 [==============================] - 3s 235ms/step - loss: 0.0021 - val_loss: 0.0019\n",
      "Epoch 79/100\n",
      "12/12 [==============================] - 3s 238ms/step - loss: 0.0020 - val_loss: 0.0039\n",
      "Epoch 80/100\n",
      "12/12 [==============================] - 4s 300ms/step - loss: 0.0021 - val_loss: 0.0036\n",
      "Epoch 81/100\n"
     ]
    },
    {
     "name": "stdout",
     "output_type": "stream",
     "text": [
      "12/12 [==============================] - 3s 249ms/step - loss: 0.0021 - val_loss: 0.0029\n",
      "Epoch 82/100\n",
      "12/12 [==============================] - 3s 234ms/step - loss: 0.0019 - val_loss: 0.0044\n",
      "Epoch 83/100\n",
      "12/12 [==============================] - 3s 233ms/step - loss: 0.0020 - val_loss: 0.0031\n",
      "Epoch 84/100\n",
      "12/12 [==============================] - 3s 241ms/step - loss: 0.0018 - val_loss: 0.0042\n",
      "Epoch 85/100\n",
      "12/12 [==============================] - 3s 227ms/step - loss: 0.0016 - val_loss: 0.0039\n",
      "Epoch 86/100\n",
      "12/12 [==============================] - 3s 237ms/step - loss: 0.0022 - val_loss: 0.0053\n",
      "Epoch 87/100\n",
      "12/12 [==============================] - 3s 235ms/step - loss: 0.0027 - val_loss: 0.0023\n",
      "Epoch 88/100\n",
      "12/12 [==============================] - 3s 248ms/step - loss: 0.0019 - val_loss: 0.0043\n",
      "Epoch 89/100\n",
      "12/12 [==============================] - 3s 237ms/step - loss: 0.0018 - val_loss: 0.0043\n",
      "Epoch 90/100\n",
      "12/12 [==============================] - 3s 227ms/step - loss: 0.0018 - val_loss: 0.0053\n",
      "Epoch 91/100\n",
      "12/12 [==============================] - 3s 244ms/step - loss: 0.0017 - val_loss: 0.0030\n",
      "Epoch 92/100\n",
      "12/12 [==============================] - 3s 239ms/step - loss: 0.0017 - val_loss: 0.0056\n",
      "Epoch 93/100\n",
      "12/12 [==============================] - 3s 225ms/step - loss: 0.0018 - val_loss: 0.0063\n",
      "Epoch 94/100\n",
      "12/12 [==============================] - 3s 238ms/step - loss: 0.0018 - val_loss: 0.0042\n",
      "Epoch 95/100\n",
      "12/12 [==============================] - 3s 235ms/step - loss: 0.0025 - val_loss: 0.0032\n",
      "Epoch 96/100\n",
      "12/12 [==============================] - 3s 231ms/step - loss: 0.0021 - val_loss: 0.0061\n",
      "Epoch 97/100\n",
      "12/12 [==============================] - 3s 228ms/step - loss: 0.0020 - val_loss: 0.0030\n",
      "Epoch 98/100\n",
      "12/12 [==============================] - 3s 228ms/step - loss: 0.0020 - val_loss: 0.0021\n",
      "Epoch 99/100\n",
      "12/12 [==============================] - 3s 231ms/step - loss: 0.0021 - val_loss: 0.0016\n",
      "Epoch 100/100\n",
      "12/12 [==============================] - 3s 230ms/step - loss: 0.0023 - val_loss: 0.0070\n"
     ]
    }
   ],
   "source": [
    "history = model.fit(X_train,y_train,validation_data=(X_test,ytest),epochs=100,batch_size=64,verbose=1)"
   ]
  },
  {
   "cell_type": "code",
   "execution_count": 47,
   "metadata": {},
   "outputs": [
    {
     "name": "stdout",
     "output_type": "stream",
     "text": [
      "[0.0021395236253738403, 0.0019086236134171486, 0.0017076304648071527, 0.0015245425747707486, 0.017570771276950836, 0.007936705835163593, 0.006513487547636032, 0.007834234274923801, 0.006441884208470583, 0.005195266101509333, 0.003876704489812255, 0.0048812879249453545, 0.0043052975088357925, 0.0073503716848790646, 0.007254359312355518, 0.005394098348915577, 0.005510625429451466, 0.005371781997382641, 0.0041356864385306835, 0.0033190236426889896, 0.002981414319947362, 0.0025440617464482784, 0.0035347677767276764, 0.0027657609898597, 0.002328011440113187, 0.002495321910828352, 0.002028163056820631, 0.0019389797234907746, 0.0022589454893022776, 0.004666632506996393, 0.005109955091029406, 0.0028592462185770273, 0.002743264427408576, 0.003254412207752466, 0.0028320394922047853, 0.002608003793284297, 0.0023614808451384306, 0.002111265202984214, 0.001726219430565834, 0.00249250466004014, 0.002049409318715334, 0.002258904743939638, 0.0022910230327397585, 0.0018976377323269844, 0.001911112922243774, 0.002174945781007409, 0.002152116736397147, 0.002032774966210127, 0.002490207552909851, 0.0021158414892852306, 0.0025052009150385857, 0.0018555617425590754, 0.0015270865987986326, 0.0013743804302066565, 0.0014994910452514887, 0.0017631212249398232, 0.005537592340260744, 0.005352383013814688, 0.0042988331988453865, 0.0030994622502475977, 0.002853050595149398, 0.002629366936162114, 0.002539745531976223, 0.0024993186816573143, 0.0028976795729249716, 0.003239596728235483, 0.002465068129822612, 0.002075866097584367, 0.0018977767322212458, 0.0020562331192195415, 0.002145631005987525, 0.0018784463172778487, 0.002065034816041589, 0.002268892014399171, 0.002778050722554326, 0.002815251238644123, 0.0020784162916243076, 0.002104797400534153, 0.00197038147598505, 0.00205175275914371, 0.0021275870967656374, 0.0019245754228904843, 0.0020050464663654566, 0.0017803850350901484, 0.0016461788909509778, 0.002150340937077999, 0.002685708459466696, 0.0019329305505380034, 0.0017809594282880425, 0.0017687282525002956, 0.0016656824154779315, 0.0016896557062864304, 0.0017661130987107754, 0.0017629634821787477, 0.0025027140509337187, 0.0020577723626047373, 0.0019785284530371428, 0.001978110522031784, 0.002125874161720276, 0.0022618018556386232]\n"
     ]
    }
   ],
   "source": [
    "print(history.history['loss'])"
   ]
  },
  {
   "cell_type": "code",
   "execution_count": 48,
   "metadata": {},
   "outputs": [
    {
     "name": "stdout",
     "output_type": "stream",
     "text": [
      "[0.007802262902259827, 0.004680945072323084, 0.005427050869911909, 0.0026422941591590643, 0.016081901267170906, 0.001970948651432991, 0.008002256974577904, 0.0032571719493716955, 0.0014219745062291622, 0.0035395885352045298, 0.0034747931640595198, 0.0025277019012719393, 0.00404859846457839, 0.010864152573049068, 0.006243373733013868, 0.005501522216945887, 0.0064502013847231865, 0.008159314282238483, 0.0037502699997276068, 0.004219798371195793, 0.0028773960657417774, 0.005685825832188129, 0.0045461030676960945, 0.004358289297670126, 0.004507571458816528, 0.00795928668230772, 0.004719446878880262, 0.003881563898175955, 0.004354532342404127, 0.010521761141717434, 0.012071645818650723, 0.006135755684226751, 0.0033978901337832212, 0.0020259630400687456, 0.004873131401836872, 0.004335994366556406, 0.003006409853696823, 0.005395893938839436, 0.0035960294771939516, 0.007104009855538607, 0.006038844585418701, 0.003015159862115979, 0.008902539499104023, 0.005864993669092655, 0.001802058657631278, 0.0022101481445133686, 0.001605577883310616, 0.001792261260561645, 0.005445098504424095, 0.007084380369633436, 0.005720788147300482, 0.00413084402680397, 0.0038831261917948723, 0.004039741586893797, 0.004079184960573912, 0.0031725980807095766, 0.005911657121032476, 0.006550375372171402, 0.007992858998477459, 0.006348764058202505, 0.004243577364832163, 0.004256727639585733, 0.004202727228403091, 0.005984403192996979, 0.0032302464824169874, 0.0082818903028965, 0.0053580142557621, 0.0036598690785467625, 0.0031350431963801384, 0.005159909371286631, 0.005490609910339117, 0.003330324310809374, 0.004135848022997379, 0.0055077639408409595, 0.002317060250788927, 0.0019342382438480854, 0.00211164727807045, 0.001923183212056756, 0.003948276396840811, 0.003556750249117613, 0.0028781595174223185, 0.0044212923385202885, 0.003138887230306864, 0.004163767676800489, 0.003902643918991089, 0.0053333076648414135, 0.0023300449829548597, 0.004278797190636396, 0.004334361292421818, 0.005315521266311407, 0.0030215177685022354, 0.005573358852416277, 0.006250385660678148, 0.004235068801790476, 0.003167753340676427, 0.006089384201914072, 0.0030184094794094563, 0.0020547499880194664, 0.001644364558160305, 0.007023123558610678]\n"
     ]
    }
   ],
   "source": [
    "print(history.history['val_loss'])"
   ]
  },
  {
   "cell_type": "code",
   "execution_count": 49,
   "metadata": {},
   "outputs": [
    {
     "data": {
      "image/png": "[encoded data removed]",
      "text/plain": [
       "<Figure size 432x288 with 1 Axes>"
      ]
     },
     "metadata": {
      "needs_background": "light"
     },
     "output_type": "display_data"
    }
   ],
   "source": [
    "from matplotlib import pyplot\n",
    "pyplot.plot(history.history['loss'])\n",
    "pyplot.plot(history.history['val_loss'])\n",
    "pyplot.title('model loss vs val_loss')\n",
    "pyplot.xlabel('epoch')\n",
    "pyplot.legend(['loss', 'val_loss'], loc='upper right')\n",
    "pyplot.show()"
   ]
  },
  {
   "cell_type": "code",
   "execution_count": null,
   "metadata": {},
   "outputs": [],
   "source": []
  },
  {
   "cell_type": "code",
   "execution_count": null,
   "metadata": {},
   "outputs": [],
   "source": []
  }
 ],
 "metadata": {
  "kernelspec": {
   "display_name": "Python 3",
   "language": "python",
   "name": "python3"
  },
  "language_info": {
   "codemirror_mode": {
    "name": "ipython",
    "version": 3
   },
   "file_extension": ".py",
   "mimetype": "text/x-python",
   "name": "python",
   "nbconvert_exporter": "python",
   "pygments_lexer": "ipython3",
   "version": "3.8.3"
  }
 },
 "nbformat": 4,
 "nbformat_minor": 2
}
