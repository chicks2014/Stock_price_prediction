{
 "cells": [
  {
   "cell_type": "code",
   "execution_count": 1,
   "metadata": {},
   "outputs": [],
   "source": [
    "# !pip install pandas_datareader"
   ]
  },
  {
   "cell_type": "code",
   "execution_count": 2,
   "metadata": {},
   "outputs": [],
   "source": [
    "import pandas_datareader as pdr"
   ]
  },
  {
   "cell_type": "code",
   "execution_count": 3,
   "metadata": {},
   "outputs": [],
   "source": [
    "# key ='8f3fe973f343e88abb3bf0410ad0a10030596f19'"
   ]
  },
  {
   "cell_type": "code",
   "execution_count": 4,
   "metadata": {},
   "outputs": [],
   "source": [
    "# df = pdr.get_data_tiingo('AAPL', api_key=key)"
   ]
  },
  {
   "cell_type": "code",
   "execution_count": 5,
   "metadata": {},
   "outputs": [],
   "source": [
    "# df.to_csv('AAPL.csv')"
   ]
  },
  {
   "cell_type": "code",
   "execution_count": 6,
   "metadata": {},
   "outputs": [],
   "source": [
    "import pandas as pd"
   ]
  },
  {
   "cell_type": "code",
   "execution_count": 7,
   "metadata": {},
   "outputs": [],
   "source": [
    "df = pd.read_csv('AAPL.csv')"
   ]
  },
  {
   "cell_type": "code",
   "execution_count": 8,
   "metadata": {},
   "outputs": [
    {
     "data": {
      "text/html": [
       "<div>\n",
       "<style scoped>\n",
       "    .dataframe tbody tr th:only-of-type {\n",
       "        vertical-align: middle;\n",
       "    }\n",
       "\n",
       "    .dataframe tbody tr th {\n",
       "        vertical-align: top;\n",
       "    }\n",
       "\n",
       "    .dataframe thead th {\n",
       "        text-align: right;\n",
       "    }\n",
       "</style>\n",
       "<table border=\"1\" class=\"dataframe\">\n",
       "  <thead>\n",
       "    <tr style=\"text-align: right;\">\n",
       "      <th></th>\n",
       "      <th>symbol</th>\n",
       "      <th>date</th>\n",
       "      <th>close</th>\n",
       "      <th>high</th>\n",
       "      <th>low</th>\n",
       "      <th>open</th>\n",
       "      <th>volume</th>\n",
       "      <th>adjClose</th>\n",
       "      <th>adjHigh</th>\n",
       "      <th>adjLow</th>\n",
       "      <th>adjOpen</th>\n",
       "      <th>adjVolume</th>\n",
       "      <th>divCash</th>\n",
       "      <th>splitFactor</th>\n",
       "    </tr>\n",
       "  </thead>\n",
       "  <tbody>\n",
       "    <tr>\n",
       "      <th>0</th>\n",
       "      <td>AAPL</td>\n",
       "      <td>2017-10-13 00:00:00+00:00</td>\n",
       "      <td>156.99</td>\n",
       "      <td>157.28</td>\n",
       "      <td>156.41</td>\n",
       "      <td>156.73</td>\n",
       "      <td>16287608</td>\n",
       "      <td>37.246402</td>\n",
       "      <td>37.315206</td>\n",
       "      <td>37.108795</td>\n",
       "      <td>37.184716</td>\n",
       "      <td>65150432</td>\n",
       "      <td>0.0</td>\n",
       "      <td>1.0</td>\n",
       "    </tr>\n",
       "    <tr>\n",
       "      <th>1</th>\n",
       "      <td>AAPL</td>\n",
       "      <td>2017-10-16 00:00:00+00:00</td>\n",
       "      <td>159.88</td>\n",
       "      <td>160.00</td>\n",
       "      <td>157.65</td>\n",
       "      <td>157.90</td>\n",
       "      <td>23894630</td>\n",
       "      <td>37.932064</td>\n",
       "      <td>37.960535</td>\n",
       "      <td>37.402990</td>\n",
       "      <td>37.462303</td>\n",
       "      <td>95578520</td>\n",
       "      <td>0.0</td>\n",
       "      <td>1.0</td>\n",
       "    </tr>\n",
       "    <tr>\n",
       "      <th>2</th>\n",
       "      <td>AAPL</td>\n",
       "      <td>2017-10-17 00:00:00+00:00</td>\n",
       "      <td>160.47</td>\n",
       "      <td>160.87</td>\n",
       "      <td>159.23</td>\n",
       "      <td>159.78</td>\n",
       "      <td>18816438</td>\n",
       "      <td>38.072044</td>\n",
       "      <td>38.166945</td>\n",
       "      <td>37.777850</td>\n",
       "      <td>37.908339</td>\n",
       "      <td>75265752</td>\n",
       "      <td>0.0</td>\n",
       "      <td>1.0</td>\n",
       "    </tr>\n",
       "    <tr>\n",
       "      <th>3</th>\n",
       "      <td>AAPL</td>\n",
       "      <td>2017-10-18 00:00:00+00:00</td>\n",
       "      <td>159.76</td>\n",
       "      <td>160.71</td>\n",
       "      <td>159.60</td>\n",
       "      <td>160.42</td>\n",
       "      <td>16158659</td>\n",
       "      <td>37.903594</td>\n",
       "      <td>38.128985</td>\n",
       "      <td>37.865634</td>\n",
       "      <td>38.060181</td>\n",
       "      <td>64634636</td>\n",
       "      <td>0.0</td>\n",
       "      <td>1.0</td>\n",
       "    </tr>\n",
       "    <tr>\n",
       "      <th>4</th>\n",
       "      <td>AAPL</td>\n",
       "      <td>2017-10-19 00:00:00+00:00</td>\n",
       "      <td>155.98</td>\n",
       "      <td>157.08</td>\n",
       "      <td>155.02</td>\n",
       "      <td>156.75</td>\n",
       "      <td>42111326</td>\n",
       "      <td>37.006776</td>\n",
       "      <td>37.267755</td>\n",
       "      <td>36.779013</td>\n",
       "      <td>37.189462</td>\n",
       "      <td>168445304</td>\n",
       "      <td>0.0</td>\n",
       "      <td>1.0</td>\n",
       "    </tr>\n",
       "  </tbody>\n",
       "</table>\n",
       "</div>"
      ],
      "text/plain": [
       "  symbol                       date   close    high     low    open    volume  \\\n",
       "0   AAPL  2017-10-13 00:00:00+00:00  156.99  157.28  156.41  156.73  16287608   \n",
       "1   AAPL  2017-10-16 00:00:00+00:00  159.88  160.00  157.65  157.90  23894630   \n",
       "2   AAPL  2017-10-17 00:00:00+00:00  160.47  160.87  159.23  159.78  18816438   \n",
       "3   AAPL  2017-10-18 00:00:00+00:00  159.76  160.71  159.60  160.42  16158659   \n",
       "4   AAPL  2017-10-19 00:00:00+00:00  155.98  157.08  155.02  156.75  42111326   \n",
       "\n",
       "    adjClose    adjHigh     adjLow    adjOpen  adjVolume  divCash  splitFactor  \n",
       "0  37.246402  37.315206  37.108795  37.184716   65150432      0.0          1.0  \n",
       "1  37.932064  37.960535  37.402990  37.462303   95578520      0.0          1.0  \n",
       "2  38.072044  38.166945  37.777850  37.908339   75265752      0.0          1.0  \n",
       "3  37.903594  38.128985  37.865634  38.060181   64634636      0.0          1.0  \n",
       "4  37.006776  37.267755  36.779013  37.189462  168445304      0.0          1.0  "
      ]
     },
     "execution_count": 8,
     "metadata": {},
     "output_type": "execute_result"
    }
   ],
   "source": [
    "df.head()"
   ]
  },
  {
   "cell_type": "code",
   "execution_count": 9,
   "metadata": {},
   "outputs": [
    {
     "data": {
      "text/html": [
       "<div>\n",
       "<style scoped>\n",
       "    .dataframe tbody tr th:only-of-type {\n",
       "        vertical-align: middle;\n",
       "    }\n",
       "\n",
       "    .dataframe tbody tr th {\n",
       "        vertical-align: top;\n",
       "    }\n",
       "\n",
       "    .dataframe thead th {\n",
       "        text-align: right;\n",
       "    }\n",
       "</style>\n",
       "<table border=\"1\" class=\"dataframe\">\n",
       "  <thead>\n",
       "    <tr style=\"text-align: right;\">\n",
       "      <th></th>\n",
       "      <th>symbol</th>\n",
       "      <th>date</th>\n",
       "      <th>close</th>\n",
       "      <th>high</th>\n",
       "      <th>low</th>\n",
       "      <th>open</th>\n",
       "      <th>volume</th>\n",
       "      <th>adjClose</th>\n",
       "      <th>adjHigh</th>\n",
       "      <th>adjLow</th>\n",
       "      <th>adjOpen</th>\n",
       "      <th>adjVolume</th>\n",
       "      <th>divCash</th>\n",
       "      <th>splitFactor</th>\n",
       "    </tr>\n",
       "  </thead>\n",
       "  <tbody>\n",
       "    <tr>\n",
       "      <th>1252</th>\n",
       "      <td>AAPL</td>\n",
       "      <td>2022-10-05 00:00:00+00:00</td>\n",
       "      <td>146.40</td>\n",
       "      <td>147.38</td>\n",
       "      <td>143.0100</td>\n",
       "      <td>144.075</td>\n",
       "      <td>79470968</td>\n",
       "      <td>146.40</td>\n",
       "      <td>147.38</td>\n",
       "      <td>143.0100</td>\n",
       "      <td>144.075</td>\n",
       "      <td>79470968</td>\n",
       "      <td>0.0</td>\n",
       "      <td>1.0</td>\n",
       "    </tr>\n",
       "    <tr>\n",
       "      <th>1253</th>\n",
       "      <td>AAPL</td>\n",
       "      <td>2022-10-06 00:00:00+00:00</td>\n",
       "      <td>145.43</td>\n",
       "      <td>147.54</td>\n",
       "      <td>145.2200</td>\n",
       "      <td>145.810</td>\n",
       "      <td>68402169</td>\n",
       "      <td>145.43</td>\n",
       "      <td>147.54</td>\n",
       "      <td>145.2200</td>\n",
       "      <td>145.810</td>\n",
       "      <td>68402169</td>\n",
       "      <td>0.0</td>\n",
       "      <td>1.0</td>\n",
       "    </tr>\n",
       "    <tr>\n",
       "      <th>1254</th>\n",
       "      <td>AAPL</td>\n",
       "      <td>2022-10-07 00:00:00+00:00</td>\n",
       "      <td>140.09</td>\n",
       "      <td>143.10</td>\n",
       "      <td>139.4450</td>\n",
       "      <td>142.540</td>\n",
       "      <td>85925559</td>\n",
       "      <td>140.09</td>\n",
       "      <td>143.10</td>\n",
       "      <td>139.4450</td>\n",
       "      <td>142.540</td>\n",
       "      <td>85925559</td>\n",
       "      <td>0.0</td>\n",
       "      <td>1.0</td>\n",
       "    </tr>\n",
       "    <tr>\n",
       "      <th>1255</th>\n",
       "      <td>AAPL</td>\n",
       "      <td>2022-10-10 00:00:00+00:00</td>\n",
       "      <td>140.42</td>\n",
       "      <td>141.89</td>\n",
       "      <td>138.5729</td>\n",
       "      <td>140.420</td>\n",
       "      <td>74899002</td>\n",
       "      <td>140.42</td>\n",
       "      <td>141.89</td>\n",
       "      <td>138.5729</td>\n",
       "      <td>140.420</td>\n",
       "      <td>74899002</td>\n",
       "      <td>0.0</td>\n",
       "      <td>1.0</td>\n",
       "    </tr>\n",
       "    <tr>\n",
       "      <th>1256</th>\n",
       "      <td>AAPL</td>\n",
       "      <td>2022-10-11 00:00:00+00:00</td>\n",
       "      <td>138.98</td>\n",
       "      <td>141.35</td>\n",
       "      <td>138.2200</td>\n",
       "      <td>139.900</td>\n",
       "      <td>77033672</td>\n",
       "      <td>138.98</td>\n",
       "      <td>141.35</td>\n",
       "      <td>138.2200</td>\n",
       "      <td>139.900</td>\n",
       "      <td>77033672</td>\n",
       "      <td>0.0</td>\n",
       "      <td>1.0</td>\n",
       "    </tr>\n",
       "  </tbody>\n",
       "</table>\n",
       "</div>"
      ],
      "text/plain": [
       "     symbol                       date   close    high       low     open  \\\n",
       "1252   AAPL  2022-10-05 00:00:00+00:00  146.40  147.38  143.0100  144.075   \n",
       "1253   AAPL  2022-10-06 00:00:00+00:00  145.43  147.54  145.2200  145.810   \n",
       "1254   AAPL  2022-10-07 00:00:00+00:00  140.09  143.10  139.4450  142.540   \n",
       "1255   AAPL  2022-10-10 00:00:00+00:00  140.42  141.89  138.5729  140.420   \n",
       "1256   AAPL  2022-10-11 00:00:00+00:00  138.98  141.35  138.2200  139.900   \n",
       "\n",
       "        volume  adjClose  adjHigh    adjLow  adjOpen  adjVolume  divCash  \\\n",
       "1252  79470968    146.40   147.38  143.0100  144.075   79470968      0.0   \n",
       "1253  68402169    145.43   147.54  145.2200  145.810   68402169      0.0   \n",
       "1254  85925559    140.09   143.10  139.4450  142.540   85925559      0.0   \n",
       "1255  74899002    140.42   141.89  138.5729  140.420   74899002      0.0   \n",
       "1256  77033672    138.98   141.35  138.2200  139.900   77033672      0.0   \n",
       "\n",
       "      splitFactor  \n",
       "1252          1.0  \n",
       "1253          1.0  \n",
       "1254          1.0  \n",
       "1255          1.0  \n",
       "1256          1.0  "
      ]
     },
     "execution_count": 9,
     "metadata": {},
     "output_type": "execute_result"
    }
   ],
   "source": [
    "df.tail()"
   ]
  },
  {
   "cell_type": "code",
   "execution_count": 10,
   "metadata": {},
   "outputs": [
    {
     "data": {
      "text/plain": [
       "(1257, 14)"
      ]
     },
     "execution_count": 10,
     "metadata": {},
     "output_type": "execute_result"
    }
   ],
   "source": [
    "df.shape"
   ]
  },
  {
   "cell_type": "code",
   "execution_count": 11,
   "metadata": {},
   "outputs": [
    {
     "data": {
      "text/html": [
       "<div>\n",
       "<style scoped>\n",
       "    .dataframe tbody tr th:only-of-type {\n",
       "        vertical-align: middle;\n",
       "    }\n",
       "\n",
       "    .dataframe tbody tr th {\n",
       "        vertical-align: top;\n",
       "    }\n",
       "\n",
       "    .dataframe thead th {\n",
       "        text-align: right;\n",
       "    }\n",
       "</style>\n",
       "<table border=\"1\" class=\"dataframe\">\n",
       "  <thead>\n",
       "    <tr style=\"text-align: right;\">\n",
       "      <th></th>\n",
       "      <th>close</th>\n",
       "      <th>high</th>\n",
       "      <th>low</th>\n",
       "      <th>open</th>\n",
       "      <th>volume</th>\n",
       "      <th>adjClose</th>\n",
       "      <th>adjHigh</th>\n",
       "      <th>adjLow</th>\n",
       "      <th>adjOpen</th>\n",
       "      <th>adjVolume</th>\n",
       "      <th>divCash</th>\n",
       "      <th>splitFactor</th>\n",
       "    </tr>\n",
       "  </thead>\n",
       "  <tbody>\n",
       "    <tr>\n",
       "      <th>count</th>\n",
       "      <td>1257.000000</td>\n",
       "      <td>1257.000000</td>\n",
       "      <td>1257.000000</td>\n",
       "      <td>1257.000000</td>\n",
       "      <td>1.257000e+03</td>\n",
       "      <td>1257.000000</td>\n",
       "      <td>1257.000000</td>\n",
       "      <td>1257.000000</td>\n",
       "      <td>1257.000000</td>\n",
       "      <td>1.257000e+03</td>\n",
       "      <td>1257.000000</td>\n",
       "      <td>1257.000000</td>\n",
       "    </tr>\n",
       "    <tr>\n",
       "      <th>mean</th>\n",
       "      <td>191.895863</td>\n",
       "      <td>193.905754</td>\n",
       "      <td>189.643705</td>\n",
       "      <td>191.669553</td>\n",
       "      <td>6.023340e+07</td>\n",
       "      <td>92.483305</td>\n",
       "      <td>93.511715</td>\n",
       "      <td>91.367046</td>\n",
       "      <td>92.411207</td>\n",
       "      <td>1.177465e+08</td>\n",
       "      <td>0.008473</td>\n",
       "      <td>1.002387</td>\n",
       "    </tr>\n",
       "    <tr>\n",
       "      <th>std</th>\n",
       "      <td>68.500185</td>\n",
       "      <td>69.148018</td>\n",
       "      <td>67.497683</td>\n",
       "      <td>68.211501</td>\n",
       "      <td>4.096141e+07</td>\n",
       "      <td>47.019849</td>\n",
       "      <td>47.599644</td>\n",
       "      <td>46.402518</td>\n",
       "      <td>47.003834</td>\n",
       "      <td>5.472853e+07</td>\n",
       "      <td>0.074307</td>\n",
       "      <td>0.084616</td>\n",
       "    </tr>\n",
       "    <tr>\n",
       "      <th>min</th>\n",
       "      <td>106.840000</td>\n",
       "      <td>110.190000</td>\n",
       "      <td>103.100000</td>\n",
       "      <td>104.540000</td>\n",
       "      <td>1.136204e+07</td>\n",
       "      <td>34.364620</td>\n",
       "      <td>35.217754</td>\n",
       "      <td>34.318700</td>\n",
       "      <td>34.797229</td>\n",
       "      <td>4.099995e+07</td>\n",
       "      <td>0.000000</td>\n",
       "      <td>1.000000</td>\n",
       "    </tr>\n",
       "    <tr>\n",
       "      <th>25%</th>\n",
       "      <td>148.260000</td>\n",
       "      <td>149.430000</td>\n",
       "      <td>146.470000</td>\n",
       "      <td>148.150000</td>\n",
       "      <td>2.776067e+07</td>\n",
       "      <td>46.963823</td>\n",
       "      <td>47.652491</td>\n",
       "      <td>46.465148</td>\n",
       "      <td>46.861944</td>\n",
       "      <td>8.137873e+07</td>\n",
       "      <td>0.000000</td>\n",
       "      <td>1.000000</td>\n",
       "    </tr>\n",
       "    <tr>\n",
       "      <th>50%</th>\n",
       "      <td>172.970000</td>\n",
       "      <td>174.500000</td>\n",
       "      <td>171.461000</td>\n",
       "      <td>172.780000</td>\n",
       "      <td>4.780059e+07</td>\n",
       "      <td>77.209066</td>\n",
       "      <td>78.111029</td>\n",
       "      <td>76.513755</td>\n",
       "      <td>77.216463</td>\n",
       "      <td>1.035588e+08</td>\n",
       "      <td>0.000000</td>\n",
       "      <td>1.000000</td>\n",
       "    </tr>\n",
       "    <tr>\n",
       "      <th>75%</th>\n",
       "      <td>209.680000</td>\n",
       "      <td>212.050000</td>\n",
       "      <td>207.700000</td>\n",
       "      <td>209.880000</td>\n",
       "      <td>8.444274e+07</td>\n",
       "      <td>137.398880</td>\n",
       "      <td>140.474601</td>\n",
       "      <td>135.441602</td>\n",
       "      <td>137.199158</td>\n",
       "      <td>1.375225e+08</td>\n",
       "      <td>0.000000</td>\n",
       "      <td>1.000000</td>\n",
       "    </tr>\n",
       "    <tr>\n",
       "      <th>max</th>\n",
       "      <td>506.090000</td>\n",
       "      <td>515.140000</td>\n",
       "      <td>500.330000</td>\n",
       "      <td>514.790000</td>\n",
       "      <td>3.326072e+08</td>\n",
       "      <td>181.260451</td>\n",
       "      <td>182.186621</td>\n",
       "      <td>178.382353</td>\n",
       "      <td>181.877898</td>\n",
       "      <td>4.268849e+08</td>\n",
       "      <td>0.820000</td>\n",
       "      <td>4.000000</td>\n",
       "    </tr>\n",
       "  </tbody>\n",
       "</table>\n",
       "</div>"
      ],
      "text/plain": [
       "             close         high          low         open        volume  \\\n",
       "count  1257.000000  1257.000000  1257.000000  1257.000000  1.257000e+03   \n",
       "mean    191.895863   193.905754   189.643705   191.669553  6.023340e+07   \n",
       "std      68.500185    69.148018    67.497683    68.211501  4.096141e+07   \n",
       "min     106.840000   110.190000   103.100000   104.540000  1.136204e+07   \n",
       "25%     148.260000   149.430000   146.470000   148.150000  2.776067e+07   \n",
       "50%     172.970000   174.500000   171.461000   172.780000  4.780059e+07   \n",
       "75%     209.680000   212.050000   207.700000   209.880000  8.444274e+07   \n",
       "max     506.090000   515.140000   500.330000   514.790000  3.326072e+08   \n",
       "\n",
       "          adjClose      adjHigh       adjLow      adjOpen     adjVolume  \\\n",
       "count  1257.000000  1257.000000  1257.000000  1257.000000  1.257000e+03   \n",
       "mean     92.483305    93.511715    91.367046    92.411207  1.177465e+08   \n",
       "std      47.019849    47.599644    46.402518    47.003834  5.472853e+07   \n",
       "min      34.364620    35.217754    34.318700    34.797229  4.099995e+07   \n",
       "25%      46.963823    47.652491    46.465148    46.861944  8.137873e+07   \n",
       "50%      77.209066    78.111029    76.513755    77.216463  1.035588e+08   \n",
       "75%     137.398880   140.474601   135.441602   137.199158  1.375225e+08   \n",
       "max     181.260451   182.186621   178.382353   181.877898  4.268849e+08   \n",
       "\n",
       "           divCash  splitFactor  \n",
       "count  1257.000000  1257.000000  \n",
       "mean      0.008473     1.002387  \n",
       "std       0.074307     0.084616  \n",
       "min       0.000000     1.000000  \n",
       "25%       0.000000     1.000000  \n",
       "50%       0.000000     1.000000  \n",
       "75%       0.000000     1.000000  \n",
       "max       0.820000     4.000000  "
      ]
     },
     "execution_count": 11,
     "metadata": {},
     "output_type": "execute_result"
    }
   ],
   "source": [
    "df.describe()"
   ]
  },
  {
   "cell_type": "markdown",
   "metadata": {},
   "source": [
    "# Data cleaning"
   ]
  },
  {
   "cell_type": "code",
   "execution_count": 12,
   "metadata": {},
   "outputs": [],
   "source": [
    "df1 = df.reset_index()['close']"
   ]
  },
  {
   "cell_type": "code",
   "execution_count": 13,
   "metadata": {},
   "outputs": [
    {
     "data": {
      "text/plain": [
       "(1257,)"
      ]
     },
     "execution_count": 13,
     "metadata": {},
     "output_type": "execute_result"
    }
   ],
   "source": [
    "df1.shape"
   ]
  },
  {
   "cell_type": "code",
   "execution_count": 14,
   "metadata": {},
   "outputs": [],
   "source": [
    "import matplotlib.pyplot as plt"
   ]
  },
  {
   "cell_type": "code",
   "execution_count": 15,
   "metadata": {},
   "outputs": [
    {
     "data": {
      "text/plain": [
       "[<matplotlib.lines.Line2D at 0x2471e903910>]"
      ]
     },
     "execution_count": 15,
     "metadata": {},
     "output_type": "execute_result"
    },
    {
     "data": {
      "image/png": "[encoded data removed]",
      "text/plain": [
       "<Figure size 432x288 with 1 Axes>"
      ]
     },
     "metadata": {
      "needs_background": "light"
     },
     "output_type": "display_data"
    }
   ],
   "source": [
    "plt.plot(df1)"
   ]
  },
  {
   "cell_type": "code",
   "execution_count": 16,
   "metadata": {},
   "outputs": [],
   "source": [
    "# LSTM is sensitive to data - need to transform it"
   ]
  },
  {
   "cell_type": "code",
   "execution_count": 17,
   "metadata": {},
   "outputs": [],
   "source": [
    "import numpy as np\n",
    "from sklearn.preprocessing import MinMaxScaler"
   ]
  },
  {
   "cell_type": "code",
   "execution_count": 18,
   "metadata": {},
   "outputs": [],
   "source": [
    "scaler = MinMaxScaler(feature_range=(0,1))\n",
    "df1 = scaler.fit_transform(np.array(df1).reshape(-1,1))"
   ]
  },
  {
   "cell_type": "code",
   "execution_count": 19,
   "metadata": {},
   "outputs": [
    {
     "data": {
      "text/plain": [
       "(1257, 1)"
      ]
     },
     "execution_count": 19,
     "metadata": {},
     "output_type": "execute_result"
    }
   ],
   "source": [
    "df1.shape"
   ]
  },
  {
   "cell_type": "code",
   "execution_count": 20,
   "metadata": {},
   "outputs": [
    {
     "data": {
      "text/plain": [
       "array([[0.12561052],\n",
       "       [0.13284909],\n",
       "       [0.13432686],\n",
       "       ...,\n",
       "       [0.08328115],\n",
       "       [0.0841077 ],\n",
       "       [0.08050094]])"
      ]
     },
     "execution_count": 20,
     "metadata": {},
     "output_type": "execute_result"
    }
   ],
   "source": [
    "df1"
   ]
  },
  {
   "cell_type": "markdown",
   "metadata": {},
   "source": [
    "# Spliting a data based on date"
   ]
  },
  {
   "cell_type": "code",
   "execution_count": 21,
   "metadata": {},
   "outputs": [],
   "source": [
    "# split in train and test\n",
    "training_size = int(len(df1) * 0.65)\n",
    "test_size = len(df1) - training_size"
   ]
  },
  {
   "cell_type": "code",
   "execution_count": 22,
   "metadata": {},
   "outputs": [
    {
     "data": {
      "text/plain": [
       "(817, 440)"
      ]
     },
     "execution_count": 22,
     "metadata": {},
     "output_type": "execute_result"
    }
   ],
   "source": [
    "training_size, test_size"
   ]
  },
  {
   "cell_type": "code",
   "execution_count": 23,
   "metadata": {},
   "outputs": [],
   "source": [
    "train_data, test_data = df1[0: training_size, :], df1[training_size:len(df1), :]"
   ]
  },
  {
   "cell_type": "code",
   "execution_count": 24,
   "metadata": {},
   "outputs": [
    {
     "data": {
      "text/plain": [
       "((817, 1), (440, 1))"
      ]
     },
     "execution_count": 24,
     "metadata": {},
     "output_type": "execute_result"
    }
   ],
   "source": [
    "train_data.shape, test_data.shape"
   ]
  },
  {
   "cell_type": "code",
   "execution_count": 25,
   "metadata": {},
   "outputs": [],
   "source": [
    "# create dataset"
   ]
  },
  {
   "cell_type": "code",
   "execution_count": 26,
   "metadata": {},
   "outputs": [],
   "source": [
    "def create_dataset(dataset, time_step=1):\n",
    "    dataX, dataY = [],[]\n",
    "    for i in range(len(dataset) - time_step - 1):\n",
    "        a = dataset[i:(i + time_step), 0] #i=0, 0,1,2,3\n",
    "        dataX.append(a)\n",
    "        dataY.append(dataset[i + time_step, 0])\n",
    "    return np.array(dataX), np.array(dataY)"
   ]
  },
  {
   "cell_type": "code",
   "execution_count": 27,
   "metadata": {},
   "outputs": [],
   "source": [
    "time_step=150\n",
    "X_train, y_train = create_dataset(train_data, time_step)\n",
    "X_test, y_test = create_dataset(test_data, time_step)"
   ]
  },
  {
   "cell_type": "code",
   "execution_count": 28,
   "metadata": {},
   "outputs": [
    {
     "name": "stdout",
     "output_type": "stream",
     "text": [
      "[[0.12561052 0.13284909 0.13432686 ... 0.203732   0.20075141 0.19904822]\n",
      " [0.13284909 0.13432686 0.13254853 ... 0.20075141 0.19904822 0.20235441]\n",
      " [0.13432686 0.13254853 0.12308078 ... 0.19904822 0.20235441 0.20117721]\n",
      " ...\n",
      " [0.53971196 0.56270507 0.56761428 ... 0.056531   0.06053851 0.0494928 ]\n",
      " [0.56270507 0.56761428 0.59398873 ... 0.06053851 0.0494928  0.06031309]\n",
      " [0.56761428 0.59398873 0.61615529 ... 0.0494928  0.06031309 0.06314339]]\n"
     ]
    }
   ],
   "source": [
    "print(X_train)"
   ]
  },
  {
   "cell_type": "code",
   "execution_count": 29,
   "metadata": {},
   "outputs": [
    {
     "data": {
      "text/plain": [
       "((666, 150), (666,), (289, 150), (289,))"
      ]
     },
     "execution_count": 29,
     "metadata": {},
     "output_type": "execute_result"
    }
   ],
   "source": [
    "X_train.shape, y_train.shape, X_test.shape, y_test.shape"
   ]
  },
  {
   "cell_type": "code",
   "execution_count": 30,
   "metadata": {},
   "outputs": [
    {
     "data": {
      "text/plain": [
       "1055"
      ]
     },
     "execution_count": 30,
     "metadata": {},
     "output_type": "execute_result"
    }
   ],
   "source": [
    "716+339"
   ]
  },
  {
   "cell_type": "code",
   "execution_count": 31,
   "metadata": {},
   "outputs": [],
   "source": [
    "# reshape input to be [samples, time steps, features] which is req for LSTM\n",
    "X_train = X_train.reshape(X_train.shape[0], X_train.shape[1], 1)\n",
    "X_test = X_test.reshape(X_test.shape[0],X_test.shape[1], 1)"
   ]
  },
  {
   "cell_type": "code",
   "execution_count": 32,
   "metadata": {},
   "outputs": [
    {
     "data": {
      "text/plain": [
       "((666, 150, 1), (289, 150, 1))"
      ]
     },
     "execution_count": 32,
     "metadata": {},
     "output_type": "execute_result"
    }
   ],
   "source": [
    "X_train.shape, X_test.shape"
   ]
  },
  {
   "cell_type": "markdown",
   "metadata": {},
   "source": [
    "# Create stacked LSTM model "
   ]
  },
  {
   "cell_type": "code",
   "execution_count": 33,
   "metadata": {},
   "outputs": [],
   "source": [
    "from tensorflow.keras.layers import LSTM, Dense\n",
    "from tensorflow.keras.models import Sequential"
   ]
  },
  {
   "cell_type": "code",
   "execution_count": 34,
   "metadata": {},
   "outputs": [],
   "source": [
    "model = Sequential()\n",
    "model.add(LSTM(50, return_sequences=True, input_shape=(100,1)))\n",
    "model.add(LSTM(50, return_sequences=True))\n",
    "model.add(LSTM(50))\n",
    "model.add(Dense(1))\n",
    "\n",
    "model.compile(loss='mean_squared_error', optimizer='adam')"
   ]
  },
  {
   "cell_type": "code",
   "execution_count": 35,
   "metadata": {},
   "outputs": [
    {
     "name": "stdout",
     "output_type": "stream",
     "text": [
      "Model: \"sequential\"\n",
      "_________________________________________________________________\n",
      "Layer (type)                 Output Shape              Param #   \n",
      "=================================================================\n",
      "lstm (LSTM)                  (None, 100, 50)           10400     \n",
      "_________________________________________________________________\n",
      "lstm_1 (LSTM)                (None, 100, 50)           20200     \n",
      "_________________________________________________________________\n",
      "lstm_2 (LSTM)                (None, 50)                20200     \n",
      "_________________________________________________________________\n",
      "dense (Dense)                (None, 1)                 51        \n",
      "=================================================================\n",
      "Total params: 50,851\n",
      "Trainable params: 50,851\n",
      "Non-trainable params: 0\n",
      "_________________________________________________________________\n"
     ]
    }
   ],
   "source": [
    "model.summary()"
   ]
  },
  {
   "cell_type": "code",
   "execution_count": null,
   "metadata": {
    "scrolled": true
   },
   "outputs": [
    {
     "name": "stdout",
     "output_type": "stream",
     "text": [
      "Epoch 1/100\n",
      "WARNING:tensorflow:Model was constructed with shape (None, 100, 1) for input KerasTensor(type_spec=TensorSpec(shape=(None, 100, 1), dtype=tf.float32, name='lstm_input'), name='lstm_input', description=\"created by layer 'lstm_input'\"), but it was called on an input with incompatible shape (None, 150, 1).\n",
      "WARNING:tensorflow:Model was constructed with shape (None, 100, 1) for input KerasTensor(type_spec=TensorSpec(shape=(None, 100, 1), dtype=tf.float32, name='lstm_input'), name='lstm_input', description=\"created by layer 'lstm_input'\"), but it was called on an input with incompatible shape (None, 150, 1).\n",
      "11/11 [==============================] - ETA: 0s - loss: 0.0759WARNING:tensorflow:Model was constructed with shape (None, 100, 1) for input KerasTensor(type_spec=TensorSpec(shape=(None, 100, 1), dtype=tf.float32, name='lstm_input'), name='lstm_input', description=\"created by layer 'lstm_input'\"), but it was called on an input with incompatible shape (None, 150, 1).\n",
      "11/11 [==============================] - 15s 734ms/step - loss: 0.0734 - val_loss: 0.0031\n",
      "Epoch 2/100\n",
      "11/11 [==============================] - 5s 432ms/step - loss: 0.0165 - val_loss: 0.0059\n",
      "Epoch 3/100\n",
      "11/11 [==============================] - 4s 331ms/step - loss: 0.0140 - val_loss: 0.0010\n",
      "Epoch 4/100\n",
      "11/11 [==============================] - 4s 365ms/step - loss: 0.0090 - val_loss: 3.5895e-04\n",
      "Epoch 5/100\n",
      "11/11 [==============================] - 4s 316ms/step - loss: 0.0115 - val_loss: 0.0031\n",
      "Epoch 6/100\n",
      "11/11 [==============================] - 3s 241ms/step - loss: 0.0071 - val_loss: 3.8372e-04\n",
      "Epoch 7/100\n",
      "11/11 [==============================] - 2s 228ms/step - loss: 0.0080 - val_loss: 4.2185e-04\n",
      "Epoch 8/100\n",
      "11/11 [==============================] - 3s 240ms/step - loss: 0.0072 - val_loss: 5.0241e-04\n",
      "Epoch 9/100\n",
      "11/11 [==============================] - 4s 334ms/step - loss: 0.0092 - val_loss: 0.0014\n",
      "Epoch 10/100\n",
      "11/11 [==============================] - 3s 291ms/step - loss: 0.0096 - val_loss: 6.1576e-04\n",
      "Epoch 11/100\n",
      "11/11 [==============================] - 3s 258ms/step - loss: 0.0038 - val_loss: 3.1652e-04\n",
      "Epoch 12/100\n",
      "11/11 [==============================] - 3s 254ms/step - loss: 0.0045 - val_loss: 3.1364e-04\n",
      "Epoch 13/100\n",
      "11/11 [==============================] - 3s 268ms/step - loss: 0.0052 - val_loss: 3.8692e-04\n",
      "Epoch 14/100\n",
      "11/11 [==============================] - 3s 271ms/step - loss: 0.0029 - val_loss: 5.3163e-04\n",
      "Epoch 15/100\n",
      "11/11 [==============================] - 3s 239ms/step - loss: 0.0038 - val_loss: 4.6721e-04\n",
      "Epoch 16/100\n",
      "11/11 [==============================] - 3s 276ms/step - loss: 0.0031 - val_loss: 3.1727e-04\n",
      "Epoch 17/100\n",
      "11/11 [==============================] - 3s 270ms/step - loss: 0.0031 - val_loss: 2.8881e-04\n",
      "Epoch 18/100\n",
      "11/11 [==============================] - 3s 264ms/step - loss: 0.0024 - val_loss: 2.9283e-04\n",
      "Epoch 19/100\n",
      "11/11 [==============================] - 3s 300ms/step - loss: 0.0032 - val_loss: 2.7730e-04\n",
      "Epoch 20/100\n",
      "11/11 [==============================] - 3s 267ms/step - loss: 0.0045 - val_loss: 3.7164e-04\n",
      "Epoch 21/100\n",
      "11/11 [==============================] - 3s 312ms/step - loss: 0.0051 - val_loss: 3.2560e-04\n",
      "Epoch 22/100\n",
      "11/11 [==============================] - 3s 235ms/step - loss: 0.0040 - val_loss: 3.4922e-04\n",
      "Epoch 23/100\n",
      "11/11 [==============================] - 3s 245ms/step - loss: 0.0039 - val_loss: 2.7304e-04\n",
      "Epoch 24/100\n",
      "11/11 [==============================] - 3s 235ms/step - loss: 0.0025 - val_loss: 3.0225e-04\n",
      "Epoch 25/100\n",
      "11/11 [==============================] - 3s 238ms/step - loss: 0.0021 - val_loss: 2.8222e-04\n",
      "Epoch 26/100\n",
      "11/11 [==============================] - 3s 238ms/step - loss: 0.0013 - val_loss: 2.7580e-04\n",
      "Epoch 27/100\n",
      "11/11 [==============================] - 3s 254ms/step - loss: 0.0016 - val_loss: 2.9400e-04\n",
      "Epoch 28/100\n",
      "11/11 [==============================] - 3s 239ms/step - loss: 0.0016 - val_loss: 2.6472e-04\n",
      "Epoch 29/100\n",
      "11/11 [==============================] - 3s 249ms/step - loss: 0.0014 - val_loss: 2.8641e-04\n",
      "Epoch 30/100\n",
      "11/11 [==============================] - 3s 231ms/step - loss: 0.0015 - val_loss: 2.9449e-04\n",
      "Epoch 31/100\n",
      "11/11 [==============================] - 3s 229ms/step - loss: 0.0028 - val_loss: 2.6116e-04\n",
      "Epoch 32/100\n",
      "11/11 [==============================] - 3s 235ms/step - loss: 0.0021 - val_loss: 2.6412e-04\n",
      "Epoch 33/100\n",
      "11/11 [==============================] - 3s 232ms/step - loss: 0.0012 - val_loss: 3.1214e-04\n",
      "Epoch 34/100\n",
      "11/11 [==============================] - 2s 229ms/step - loss: 0.0029 - val_loss: 9.0505e-04\n",
      "Epoch 35/100\n",
      "11/11 [==============================] - 2s 228ms/step - loss: 0.0035 - val_loss: 3.6041e-04\n",
      "Epoch 36/100\n",
      "11/11 [==============================] - 2s 223ms/step - loss: 0.0020 - val_loss: 3.5436e-04\n",
      "Epoch 37/100\n",
      "11/11 [==============================] - 3s 236ms/step - loss: 0.0029 - val_loss: 2.7302e-04\n",
      "Epoch 38/100\n",
      "11/11 [==============================] - 2s 228ms/step - loss: 0.0029 - val_loss: 2.9746e-04\n",
      "Epoch 39/100\n",
      "11/11 [==============================] - 3s 229ms/step - loss: 0.0024 - val_loss: 3.2182e-04\n",
      "Epoch 40/100\n",
      "11/11 [==============================] - 2s 227ms/step - loss: 0.0018 - val_loss: 3.4774e-04\n",
      "Epoch 41/100\n",
      "11/11 [==============================] - 2s 226ms/step - loss: 0.0023 - val_loss: 3.4208e-04\n",
      "Epoch 42/100\n",
      "11/11 [==============================] - 3s 234ms/step - loss: 0.0024 - val_loss: 5.4855e-04\n",
      "Epoch 43/100\n",
      "11/11 [==============================] - 2s 227ms/step - loss: 0.0022 - val_loss: 4.1393e-04\n",
      "Epoch 44/100\n",
      "11/11 [==============================] - 2s 228ms/step - loss: 0.0022 - val_loss: 2.6219e-04\n",
      "Epoch 45/100\n",
      "11/11 [==============================] - 3s 233ms/step - loss: 0.0023 - val_loss: 5.5162e-04\n",
      "Epoch 46/100\n",
      "11/11 [==============================] - 3s 247ms/step - loss: 0.0018 - val_loss: 3.0905e-04\n",
      "Epoch 47/100\n",
      "11/11 [==============================] - 3s 248ms/step - loss: 0.0018 - val_loss: 3.0906e-04\n",
      "Epoch 48/100\n",
      "11/11 [==============================] - 3s 254ms/step - loss: 0.0018 - val_loss: 4.2106e-04\n",
      "Epoch 49/100\n",
      "11/11 [==============================] - 3s 239ms/step - loss: 0.0022 - val_loss: 2.8427e-04\n",
      "Epoch 50/100\n",
      "11/11 [==============================] - 4s 362ms/step - loss: 0.0019 - val_loss: 3.3302e-04\n",
      "Epoch 51/100\n",
      "11/11 [==============================] - 3s 306ms/step - loss: 0.0028 - val_loss: 2.6798e-04\n",
      "Epoch 52/100\n",
      "11/11 [==============================] - 3s 266ms/step - loss: 0.0018 - val_loss: 2.5665e-04\n",
      "Epoch 53/100\n",
      "11/11 [==============================] - 2s 228ms/step - loss: 0.0027 - val_loss: 4.2227e-04\n",
      "Epoch 54/100\n",
      "11/11 [==============================] - 3s 244ms/step - loss: 0.0015 - val_loss: 3.7163e-04\n",
      "Epoch 55/100\n",
      "11/11 [==============================] - 3s 246ms/step - loss: 0.0020 - val_loss: 2.9690e-04\n",
      "Epoch 56/100\n",
      "11/11 [==============================] - 3s 288ms/step - loss: 0.0015 - val_loss: 2.7713e-04\n",
      "Epoch 57/100\n",
      "11/11 [==============================] - 3s 263ms/step - loss: 0.0026 - val_loss: 2.6607e-04\n",
      "Epoch 58/100\n",
      "11/11 [==============================] - 3s 265ms/step - loss: 0.0025 - val_loss: 2.6311e-04\n",
      "Epoch 59/100\n",
      "11/11 [==============================] - 3s 266ms/step - loss: 0.0029 - val_loss: 3.3512e-04\n",
      "Epoch 60/100\n",
      "11/11 [==============================] - 3s 272ms/step - loss: 0.0015 - val_loss: 2.8176e-04\n",
      "Epoch 61/100\n",
      "11/11 [==============================] - 3s 248ms/step - loss: 0.0015 - val_loss: 2.6700e-04\n",
      "Epoch 62/100\n",
      "11/11 [==============================] - 3s 241ms/step - loss: 0.0020 - val_loss: 3.0106e-04\n",
      "Epoch 63/100\n",
      "10/11 [==========================>...] - ETA: 0s - loss: 0.0015"
     ]
    }
   ],
   "source": [
    "model.fit(X_train, y_train, validation_data=(X_test, y_test), batch_size=64, epochs=100, verbose=1)"
   ]
  },
  {
   "cell_type": "code",
   "execution_count": null,
   "metadata": {},
   "outputs": [],
   "source": [
    "train_pred = model.predict(X_train)\n",
    "test_pred = model.predict(X_test)"
   ]
  },
  {
   "cell_type": "code",
   "execution_count": null,
   "metadata": {},
   "outputs": [],
   "source": [
    "# transform back to original form\n",
    "train_pred = scaler.inverse_transform(train_pred)\n",
    "test_pred = scaler.inverse_transform(test_pred)"
   ]
  },
  {
   "cell_type": "code",
   "execution_count": null,
   "metadata": {},
   "outputs": [],
   "source": [
    "import math\n",
    "from sklearn.metrics import mean_squared_error"
   ]
  },
  {
   "cell_type": "code",
   "execution_count": null,
   "metadata": {},
   "outputs": [],
   "source": [
    "math.sqrt(mean_squared_error(y_train, train_pred))"
   ]
  },
  {
   "cell_type": "code",
   "execution_count": null,
   "metadata": {},
   "outputs": [],
   "source": [
    "# test data RMSE\n",
    "math.sqrt(mean_squared_error(y_test, test_pred))"
   ]
  },
  {
   "cell_type": "markdown",
   "metadata": {},
   "source": [
    "# Plot the result"
   ]
  },
  {
   "cell_type": "code",
   "execution_count": null,
   "metadata": {},
   "outputs": [],
   "source": [
    "# shift train prediction\n",
    "look_back = time_step\n",
    "train_pred_plot = np.empty_like(df1)\n",
    "train_pred_plot[:,:] = np.nan\n",
    "train_pred_plot[look_back: len(train_pred) + look_back, :] = train_pred\n",
    "\n",
    "# shift test pred\n",
    "test_pred_plot = np.empty_like(df1)\n",
    "test_pred_plot[:,:] = np.nan\n",
    "test_pred_plot[len(train_pred) + (look_back*2)+1:len(df1)-1, :] = test_pred\n",
    "\n",
    "# plot baseline and predictions\n",
    "plt.plot(scaler.inverse_transform(df1))\n",
    "plt.plot(train_pred_plot)\n",
    "plt.plot(test_pred_plot)\n",
    "plt.rcParams[\"figure.figsize\"] = (15,15)\n",
    "# plt.show()"
   ]
  },
  {
   "cell_type": "code",
   "execution_count": null,
   "metadata": {},
   "outputs": [],
   "source": []
  },
  {
   "cell_type": "markdown",
   "metadata": {},
   "source": [
    "# Future 30 days prediction"
   ]
  },
  {
   "cell_type": "code",
   "execution_count": null,
   "metadata": {},
   "outputs": [],
   "source": [
    "len(test_data) - time_step"
   ]
  },
  {
   "cell_type": "code",
   "execution_count": null,
   "metadata": {},
   "outputs": [],
   "source": [
    "x_input = test_data[len(test_data) - time_step:].reshape(1,-1)"
   ]
  },
  {
   "cell_type": "code",
   "execution_count": null,
   "metadata": {},
   "outputs": [],
   "source": [
    "x_input.shape"
   ]
  },
  {
   "cell_type": "code",
   "execution_count": null,
   "metadata": {},
   "outputs": [],
   "source": [
    "temp_input = list(x_input)\n",
    "temp_input = temp_input[0].tolist()"
   ]
  },
  {
   "cell_type": "code",
   "execution_count": null,
   "metadata": {
    "scrolled": true
   },
   "outputs": [],
   "source": [
    "temp_input[:10]"
   ]
  },
  {
   "cell_type": "code",
   "execution_count": null,
   "metadata": {},
   "outputs": [],
   "source": [
    "lst_output=[]\n",
    "n_steps = time_step"
   ]
  },
  {
   "cell_type": "code",
   "execution_count": null,
   "metadata": {},
   "outputs": [],
   "source": [
    "i=0\n",
    "days = 100\n",
    "while(i < days):\n",
    "    \n",
    "    if(len(temp_input)> n_steps):\n",
    "        #print(temp_input)\n",
    "        x_input=np.array(temp_input[1:])\n",
    "        print(\"{} day input {}\".format(i,x_input))\n",
    "        x_input=x_input.reshape(1,-1)\n",
    "        x_input = x_input.reshape((1, n_steps, 1))\n",
    "        #print(x_input)\n",
    "        yhat = model.predict(x_input, verbose=0)\n",
    "        print(\"{} day output {}\".format(i,yhat))\n",
    "        temp_input.extend(yhat[0].tolist())\n",
    "        temp_input=temp_input[1:]\n",
    "        #print(temp_input)\n",
    "        lst_output.extend(yhat.tolist())\n",
    "        i=i+1\n",
    "    else:\n",
    "        x_input = x_input.reshape((1, n_steps,1))\n",
    "        yhat = model.predict(x_input, verbose=0)\n",
    "        print(yhat[0])\n",
    "        temp_input.extend(yhat[0].tolist())\n",
    "        print(len(temp_input))\n",
    "        lst_output.extend(yhat.tolist())\n",
    "        i=i+1\n",
    "    \n",
    "\n",
    "print(lst_output)"
   ]
  },
  {
   "cell_type": "code",
   "execution_count": null,
   "metadata": {},
   "outputs": [],
   "source": [
    "day_new = np.arange(1,time_step+1)\n",
    "day_pred = np.arange(time_step+1, time_step+days)"
   ]
  },
  {
   "cell_type": "code",
   "execution_count": null,
   "metadata": {},
   "outputs": [],
   "source": [
    "day_new.shape"
   ]
  },
  {
   "cell_type": "code",
   "execution_count": null,
   "metadata": {},
   "outputs": [],
   "source": [
    "day_pred.shape"
   ]
  },
  {
   "cell_type": "code",
   "execution_count": null,
   "metadata": {},
   "outputs": [],
   "source": [
    "len(df1)"
   ]
  },
  {
   "cell_type": "code",
   "execution_count": null,
   "metadata": {},
   "outputs": [],
   "source": [
    "# plot the graph\n",
    "plt.plot(day_new,scaler.inverse_transform(df1[len(df1):]))\n",
    "plt.plot(day_pred,scaler.inverse_transform(lst_output))"
   ]
  },
  {
   "cell_type": "code",
   "execution_count": null,
   "metadata": {},
   "outputs": [],
   "source": [
    "df3=df1.tolist()\n",
    "df3.extend(lst_output)\n",
    "plt.plot(df3[1200:])"
   ]
  },
  {
   "cell_type": "code",
   "execution_count": null,
   "metadata": {},
   "outputs": [],
   "source": [
    "\n",
    "df3=scaler.inverse_transform(df3).tolist()"
   ]
  },
  {
   "cell_type": "code",
   "execution_count": null,
   "metadata": {},
   "outputs": [],
   "source": [
    "plt.plot(df3)\n"
   ]
  },
  {
   "cell_type": "code",
   "execution_count": null,
   "metadata": {},
   "outputs": [],
   "source": []
  }
 ],
 "metadata": {
  "kernelspec": {
   "display_name": "Python 3",
   "language": "python",
   "name": "python3"
  },
  "language_info": {
   "codemirror_mode": {
    "name": "ipython",
    "version": 3
   },
   "file_extension": ".py",
   "mimetype": "text/x-python",
   "name": "python",
   "nbconvert_exporter": "python",
   "pygments_lexer": "ipython3",
   "version": "3.8.3"
  }
 },
 "nbformat": 4,
 "nbformat_minor": 4
}
